{
 "cells": [
  {
   "cell_type": "markdown",
   "metadata": {},
   "source": [
    "Q.1. Create an assert statement that throws an AssertionError if the variable spam is a negative\n",
    "integer.\n",
    "\n",
    "A.1. \n",
    "assert spam >= 0, \"The value of 'spam' must not be negative\"\n",
    "- If the value of spam is negative, this assertion will raise an AssertionError with the specified error message. Otherwise, it will continue executing without any issues.\n",
    "\n"
   ]
  },
  {
   "cell_type": "markdown",
   "metadata": {},
   "source": [
    "Q.2. Write an assert statement that triggers an AssertionError if the variables eggs and bacon contain\n",
    "strings that are the same as each other, even if their cases are different (that is 'hello' and 'hello' are\n",
    "considered the same, and 'goodbye' and 'GOODbye' are also considered the same) in python.\n",
    "\n",
    "A.2. assert eggs.lower() != bacon.lower(), \n",
    "- \"The strings 'eggs' and 'bacon' must be different (case-insensitive)\"\n",
    "- This assertion will raise an AssertionError if the lowercase versions of eggs and bacon are equal, indicating that the strings are the same regardless of case.\n",
    "\n"
   ]
  },
  {
   "cell_type": "markdown",
   "metadata": {},
   "source": [
    "Q.3. Create an assert statement that throws an AssertionError every time.\n",
    "\n",
    "A.3. \n",
    "-  An assert statement that always triggers an AssertionError\n",
    "\n",
    "assert False, \n",
    "- \"This assertion always fails\"\n"
   ]
  },
  {
   "cell_type": "markdown",
   "metadata": {},
   "source": [
    "\n",
    "Q.4. What are the two lines that must be present in your software in order to call logging.debug()?\n",
    "\n",
    "A.4. To use logging.debug() , we need to set up a logger and configure it appropriately.\n",
    "1. Create a logger:\n",
    "\n",
    "import logging\n",
    "\n",
    "logger = logging.getLogger('mylogger')\n",
    "\n",
    "2. Set the logging level to DEBUG:\n",
    "\n",
    "logger.setLevel(logging.DEBUG)\n"
   ]
  },
  {
   "cell_type": "markdown",
   "metadata": {},
   "source": [
    "Q.5. What are the two lines that your program must have in order to have logging.debug() send a\n",
    "logging message to a file named programLog.txt?\n",
    "\n",
    "A.5. To have logging.debug() send a logging message to a file named programLog.txt in Python, you need to include the following two lines in your program:\n",
    "\n",
    "1. Import the logging module:\n",
    "\n",
    "import logging\n",
    "\n",
    "2. Configure the logging to write messages to the file:\n",
    "\n",
    "logging.basicConfig(filename='programLog.txt', level=logging.DEBUG)\n",
    "\n",
    "\n"
   ]
  },
  {
   "cell_type": "markdown",
   "metadata": {},
   "source": [
    "Q.6. What are the five levels of logging?\n",
    "\n",
    "A.6. \n",
    "\n",
    "- DEBUG: Used for detailed information during development and debugging. It provides insights into the program’s internal state and flow.\n",
    "- INFO: General information about the program’s execution. Useful for tracking the program’s progress.\n",
    "- WARNING: Indicates potential issues or unexpected behavior that doesn’t necessarily cause the program to fail. It’s a warning sign.\n",
    "- ERROR: Indicates errors that might impact the program’s functionality but don’t necessarily terminate it. These should be investigated.\n",
    "- CRITICAL: The highest level, indicating a severe error that might lead to program failure. It requires immediate attention."
   ]
  },
  {
   "cell_type": "markdown",
   "metadata": {},
   "source": [
    "Q.7. What line of code would you add to your software to disable all logging messages?\n",
    "\n",
    "A.7. \n",
    "logging.disable(logging.CRITICAL)\n",
    "\n",
    "logging.disable(logging.NOTSET)\n"
   ]
  },
  {
   "cell_type": "markdown",
   "metadata": {},
   "source": [
    "Q.8. Why is using logging messages better than using print() to display the same message?\n",
    "\n",
    "A.8.\n",
    "1. Control and Flexibility:\n",
    "- Logging allows you to easily turn it on or off, providing more or less information as needed.\n",
    "- You can control what’s emitted, define the types of information you want to include in your logs, and configure how it looks when emitted12.\n",
    "- With print(), you have limited control over where the output goes and how it appears.\n",
    "2. Granularity and Severity:\n",
    "- Logging differentiates messages based on severity levels (e.g., DEBUG, INFO, WARNING, ERROR, CRITICAL).\n",
    "- You can choose the appropriate level for each message, making it easier to filter and manage logs.\n",
    "- print() lacks this granularity; all messages are treated equally.\n",
    "3. Destination Options:\n",
    "- Logging allows you to log to files, sockets, databases, or custom destinations simultaneously.\n",
    "- You can log to multiple places at once, which is useful for debugging, monitoring, and auditing.\n",
    "- print() only writes to standard output (stdout) by default.\n",
    "4. Integration with Libraries and Tools:\n",
    "- Logging integrates well with other Python tools and libraries.\n",
    "- When creating reusable packages, using print() can be problematic because it sends output to stdout, which may not be desirable for users of your package.\n",
    "- With logging, users can choose whether to propagate messages from your tool or not."
   ]
  },
  {
   "cell_type": "markdown",
   "metadata": {},
   "source": [
    "Q.9. What are the differences between the Step Over, Step In, and Step Out buttons in the debugger?\n",
    "\n",
    "A.9. \n",
    "1. Step Over:\n",
    "- When you click Step Over, the debugger executes the current line of code as a whole.\n",
    "- If there’s a function call on that line, it treats the function like a black box. You won’t see how the function was executed; it simply returns the result.\n",
    "- Useful for quickly moving through code without diving into function details1.\n",
    "2. Step In:\n",
    "- Clicking Step In takes you inside the function being called on the current line (if one is being called).\n",
    "- You can see how the function executes line by line until it returns.\n",
    "- After stepping through the function, you return to the next line right after the function call.\n",
    "- Helpful for understanding function behavior and debugging within functions1.\n",
    "3. Step Out:\n",
    "- Suppose you’ve already stepped into a function and want to skip seeing how the rest of that function executes.\n",
    "- Click Step Out to finish executing the remaining part of the function and return immediately.\n",
    "- You then proceed to the next line, which is right after the function call.\n",
    "- Useful when you’ve delved too deep into a function and want to quickly get back to the caller context"
   ]
  },
  {
   "cell_type": "markdown",
   "metadata": {},
   "source": [
    "Q.10. After you click Continue, when will the debugger stop ?\n",
    "\n",
    "A.10. When you click Continue in the debugger (such as when using IDLE or other debugging tools), the debugger will run the code continuously until it reaches the next breakpoint. If you’ve set a breakpoint on a specific line (e.g., inside a loop), the debugger will stop on that line each time it goes through the loop1. So, the debugger will pause execution at the next breakpoint encountered after clicking Continue."
   ]
  },
  {
   "cell_type": "markdown",
   "metadata": {},
   "source": [
    "Q.11. What is the concept of a breakpoint?\n",
    "\n",
    "A.11. A breakpoint is a specific point in your code where execution temporarily pauses during debugging.\n",
    "\n",
    "1. Using breakpoint() Function:\n",
    "- Python 3.7 and later versions introduced the built-in function breakpoint().\n",
    "- It serves the same purpose as pdb.set_trace() in Python 3.6 and below.\n",
    "- When a breakpoint is encountered, the program stops temporarily, allowing you to examine the current state of the code and debug it.\n",
    "- You can place breakpoint() at any line where you suspect a bug or want to inspect variables.\n",
    "\n",
    "def divide(a, b):\n",
    "\n",
    "    breakpoint()  # Add breakpoint here\n",
    "    result = a / b\n",
    "    return result\n",
    "\n",
    "print(divide(5, 0))\n",
    "\n",
    "\n",
    "- After hitting the breakpoint, you can use commands like:\n",
    "\n",
    "c: Continue execution.\n",
    "\n",
    "q: Quit the debugger.\n",
    "\n",
    "n: Step to the next line within the same function.\n",
    "\n",
    "s: Step to the next line in this function or a called function.\n",
    "\n",
    "2. Using pdb Module:\n",
    "- PDB stands for Python Debugger.\n",
    "- To use PDB, you can call pdb.set_trace() in your code.\n",
    "- Similar to breakpoint(), it halts execution and allows you to interactively debug.\n",
    "\n",
    "def divide(a, b):\n",
    "\n",
    "    import pdb; pdb.set_trace()  # Add PDB breakpoint\n",
    "    result = a / b\n",
    "    return result\n",
    "\n",
    "print(divide(5, 0))\n"
   ]
  },
  {
   "cell_type": "markdown",
   "metadata": {},
   "source": []
  }
 ],
 "metadata": {
  "language_info": {
   "name": "python"
  }
 },
 "nbformat": 4,
 "nbformat_minor": 2
}

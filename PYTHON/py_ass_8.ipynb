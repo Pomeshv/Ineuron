{
 "cells": [
  {
   "cell_type": "markdown",
   "metadata": {},
   "source": [
    "Q.1. Is the Python Standard Library included with PyInputPlus?\n",
    "\n",
    "A.1. No. PyInputPlus is not part of the Python Standard. To use it, we need to install it separately using the following command:\n",
    "\n",
    " pip install PyInputPlus"
   ]
  },
  {
   "cell_type": "markdown",
   "metadata": {},
   "source": [
    "Q.2. Why is PyInputPlus commonly imported with import pyinputplus as pypi?\n",
    "\n",
    "A.2. PyInputPlus is commonly imported with the alias pyip (not pypi). By using import pyinputplus as pyip, you can enter a shorter name when calling the module’s functions. This alias simplifies the usage of PyInputPlus functions in your code.\n"
   ]
  },
  {
   "cell_type": "markdown",
   "metadata": {},
   "source": [
    "Q.3. How do you distinguish between inputInt() and inputFloat()?\n",
    "\n",
    "A.3. 1.inputInt():\n",
    "\n",
    "- Function Purpose: inputInt() is used to take integer inputs from the user.\n",
    "\n",
    "- Input Validation:\n",
    "It ensures that the user enters a valid integer value.\n",
    "If the user provides a non-integer input, inputInt() will keep prompting until a valid integer is entered.\n",
    "\n",
    "- Additional Parameters:\n",
    "You can set optional parameters such as:\n",
    "min: Specifies the minimum allowed value.\n",
    "max: Specifies the maximum allowed value.\n",
    "greaterThan: Ensures the input is greater than a specified value.\n",
    "lessThan: Ensures the input is less than a specified value.\n",
    "\n",
    "- Return Value:\n",
    "The function returns an integer (not a string).\n",
    "\n",
    "2.inputFloat():\n",
    "\n",
    "- Function Purpose: inputFloat() is used to take floating-point numeric inputs from the user.\n",
    "\n",
    "- Input Validation:\n",
    "It ensures that the user enters a valid floating-point value.\n",
    "Similar to inputInt(), it keeps prompting until a valid float is entered.\n",
    "- \n",
    "- Additional Parameters:\n",
    "\n",
    "You can use the same optional parameters as in inputInt():\n",
    "\n",
    "min: Specifies the minimum allowed value.\n",
    "\n",
    "max: Specifies the maximum allowed value.\n",
    "greaterThan: Ensures the input is greater than a specified value.\n",
    "lessThan: Ensures the input is less than a specified value.\n",
    "\n",
    "- Return Value:\n",
    "The function returns a float (not a string).\n",
    "In summary:\n",
    "\n",
    "#### Use inputInt() for integer inputs.\n",
    "#### Use inputFloat() for floating-point numeric inputs.\n",
    "\n",
    "For E.g.\n",
    "\n",
    "import pyinputplus as pyip\n",
    "\n",
    "#### Example: Input an integer\n",
    "\n",
    "user_integer = pyip.inputInt(prompt=\"Enter an integer: \")\n",
    "\n",
    "print(f\"You entered: {user_integer}\")\n",
    "\n",
    "#### Example: Input a float\n",
    "\n",
    "user_float = pyip.inputFloat(prompt=\"Enter a float: \")\n",
    "\n",
    "print(f\"You entered: {user_float}\")\n"
   ]
  },
  {
   "cell_type": "markdown",
   "metadata": {},
   "source": [
    "Q.4. Using PyInputPlus, how do you ensure that the user enters a whole number between 0 and 99?\n",
    "\n",
    "A.4. To ensure that the user enters a whole number between 0 and 99 using PyInputPlus, you can use the inputInt() function with the min and max parameters set to 0 and 99 respectively. "
   ]
  },
  {
   "cell_type": "markdown",
   "metadata": {},
   "source": [
    "Q.5. What is transferred to the keyword arguments allowRegexes and blockRegexes?\n",
    "\n",
    "A.5. The allowRegexes and blockRegexes parameters in PyInputPlus allow you to customize input validation using regular expressions. Let’s explore their behavior:\n",
    "\n",
    "allowRegexes:\n",
    "- The allowRegexes parameter takes a list of regular expressions (regex patterns).\n",
    "- When you use allowRegexes, it specifies which input patterns are allowed.\n",
    "- If any part of the user input matches any of the regex patterns in allowRegexes, the entire input is considered valid.\n",
    "- In other words, the regex in allowRegexes acts as an additional condition for validation.\n",
    "- Example: If you allow a pattern like [A-Za-z]+, any input containing at least one alphabetical character will be valid.\n",
    "\n",
    "blockRegexes:\n",
    "- The blockRegexes parameter also takes a list of regex patterns.\n",
    "- When you use blockRegexes, it specifies which input patterns should be blocked (invalidated).\n",
    "- If any part of the user input matches any of the regex patterns in blockRegexes, the entire input is considered invalid.\n",
    "- In other words, the regex in blockRegexes acts as a condition for blocking certain inputs.\n",
    "- Example: If you block a pattern like \\\\d{3}, any input containing three consecutive digits will be invalid.\n",
    "\n",
    "Remember the following points:\n",
    "\n",
    "\n",
    "- allowRegexes does not need to match the entire input; it only needs to match a part of it.\n",
    "- blockRegexes can be used to invalidate specific patterns even if they match other validation criteria.\n",
    "\n",
    "import pyinputplus as pyip\n",
    "\n",
    "#### Allow only uppercase letters\n",
    "\n",
    "user_input = pyip.inputStr(prompt=\"Enter uppercase letters: \", allowRegexes=[r'[A-Z]+'])\n",
    "\n",
    "print(f\"Valid input: {user_input}\")\n",
    "\n",
    "#### Block any input containing digits\n",
    "\n",
    "user_input = pyip.inputStr(prompt=\"Enter without digits: \", blockRegexes=[r'\\\\d+'])\n",
    "\n",
    "print(f\"Valid input: {user_input}\")\n"
   ]
  },
  {
   "cell_type": "markdown",
   "metadata": {},
   "source": [
    "Q.6. If a blank input is entered three times, what does inputStr(limit=3) do?\n",
    "\n",
    "A.6. It prompts the user to enter a string.\n",
    "\n",
    "If the user enters a non-blank string, it returns that string.\n",
    "\n",
    "If the user enters a blank string (empty or containing only whitespace characters), it counts as an invalid input.\n",
    "\n",
    "The function will retry up to three times (as specified by the limit parameter) to get a valid non-blank input.\n",
    "\n",
    "If the user still enters a blank string after three attempts, the function raises a RetryLimitException."
   ]
  },
  {
   "cell_type": "markdown",
   "metadata": {},
   "source": [
    "Q.7. If blank input is entered three times, what does inputStr(limit=3, default='hello') do?\n",
    "\n",
    "A.7. If the user enters a blank input three times while using inputStr(limit=3, default='hello') in Python with the PyInputPlus library, the behavior will be as follows:\n",
    "\n",
    "The function will prompt the user to enter a string.\n",
    "\n",
    "If the user provides a non-blank string (i.e., any input other than an empty string or whitespace), that input will be returned.\n",
    "\n",
    "If the user enters a blank string (empty or containing only whitespace characters), the function will retry up to three times (as specified by the limit parameter) to get a valid non-blank input.\n",
    "\n",
    "If the user still enters a blank string after three attempts, the function will return the default value specified (in this case, the string ‘hello’)."
   ]
  },
  {
   "cell_type": "markdown",
   "metadata": {},
   "source": []
  },
  {
   "cell_type": "markdown",
   "metadata": {},
   "source": []
  },
  {
   "cell_type": "markdown",
   "metadata": {},
   "source": []
  },
  {
   "cell_type": "markdown",
   "metadata": {},
   "source": []
  },
  {
   "cell_type": "markdown",
   "metadata": {},
   "source": []
  },
  {
   "cell_type": "markdown",
   "metadata": {},
   "source": []
  },
  {
   "cell_type": "markdown",
   "metadata": {},
   "source": []
  },
  {
   "cell_type": "markdown",
   "metadata": {},
   "source": []
  },
  {
   "cell_type": "markdown",
   "metadata": {},
   "source": []
  }
 ],
 "metadata": {
  "language_info": {
   "name": "python"
  }
 },
 "nbformat": 4,
 "nbformat_minor": 2
}

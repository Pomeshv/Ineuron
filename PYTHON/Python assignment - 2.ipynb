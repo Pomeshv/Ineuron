{
 "cells": [
  {
   "cell_type": "markdown",
   "id": "07f64b71",
   "metadata": {},
   "source": [
    "# Q.1.What are the two values of the Boolean data type? How do you write them?"
   ]
  },
  {
   "cell_type": "markdown",
   "id": "de30d623",
   "metadata": {},
   "source": [
    "A.1. Two values of Boolean data type is \"True\" Aand \"False\".\n",
    "#Boolean_True\n",
    "bool_value = True\n",
    "\n",
    "#Boolen False\n",
    "bool_value = False\n",
    "\n",
    "     "
   ]
  },
  {
   "cell_type": "markdown",
   "id": "ca5befb9",
   "metadata": {},
   "source": [
    "# What are the three different types of Boolean operators?\n"
   ]
  },
  {
   "cell_type": "markdown",
   "id": "36e18be9",
   "metadata": {},
   "source": [
    "A.2. The three different type of Boolean operators are And, Or and Not.\n",
    "\n",
    "      #And Operator\n",
    "       Print(True and False) #output :False\n",
    "        \n",
    "        Return True When both value side is True, Otherwise False.\n",
    "        \n",
    "       #Or operator\n",
    "        Print(True or False)   #output :True\n",
    "        \n",
    "        Return True if atleast one side is True, return false when both side           false.\n",
    "        \n",
    "        #Not operator \n",
    "        Print(not True)    #output :False\n",
    "        \n",
    "        It is Unary operator i.e. it operates on a single operand.\n",
    "        \n",
    "        \n",
    "      #Uses: \n",
    "           --> Often uses in control flow statement (like, if, while, etc) to combine or invert boolean conditions.\n",
    "        \n",
    "        \n",
    "        "
   ]
  },
  {
   "cell_type": "markdown",
   "id": "a7cf8f96",
   "metadata": {},
   "source": [
    "# 3. Make a list of each Boolean operator&#39;s truth tables (i.e. every possible combination of Boolean values for the operator and what it evaluate )."
   ]
  },
  {
   "cell_type": "markdown",
   "id": "e967e4ca",
   "metadata": {},
   "source": [
    "A.3. \n",
    "   \n",
    "    1. AND Operator : \n",
    "    \n",
    "    Table:\n",
    "    \n",
    "    Operand 1              Operand 2              Result\n",
    "    \n",
    "     True                   True                   True\n",
    "    \n",
    "     True                   False                  False\n",
    "    \n",
    "     False                  True                   False\n",
    "   \n",
    "     False                  False                  False\n",
    "    \n",
    "    \n",
    "    \n",
    "    2. OR operator:\n",
    "    \n",
    "    Table:\n",
    "    \n",
    "    Operand 1               Operand 2              Result\n",
    "    \n",
    "    True                     True                  True\n",
    "    \n",
    "    True                     False                 True\n",
    "    \n",
    "    False                    True                  True\n",
    "    \n",
    "    False                    False                 False\n",
    "    \n",
    "    \n",
    "    3. NOT operator:\n",
    "     \n",
    "     Table:\n",
    "    \n",
    "    Operand1             Result\n",
    "    \n",
    "     True                 False\n",
    "     \n",
    "     False                True"
   ]
  },
  {
   "cell_type": "markdown",
   "id": "94e47b56",
   "metadata": {},
   "source": [
    "# Q.4 What are the values of the following expressions?\n",
    "(5 > 4) and (3 == 5)\n",
    "\n",
    "not (5 > 4)\n",
    "\n",
    "(5 > 4) or (3 == 5)\n",
    "\n",
    "not ((5 > 4) or (3 == 5))\n",
    "\n",
    "(True and True) and (True == False)\n",
    "\n",
    "(not False) or (not True)\n"
   ]
  },
  {
   "cell_type": "code",
   "execution_count": null,
   "id": "9330aa3f",
   "metadata": {},
   "outputs": [],
   "source": []
  },
  {
   "cell_type": "markdown",
   "id": "85532725",
   "metadata": {},
   "source": [
    "A.4. 1. (5>4) and (3==5) evaluates false because 5 > 4 is true and 3==5 is false, and True and false results in False.\n",
    "\n",
    "2. not (5>4) evaluates False. This is because 5 > 4 is True, and not True resukts in False.\n",
    "\n",
    "3. (5 > 4) or (3 == 5) evaluates True. This is Because 5 > 4 is True and 3 == 5 is False and True or False resukts in True.\n",
    "\n",
    "4. (not((5>4) or (3==5)) evaluates False because (5>4) or 3==5 is True and not True results in False.\n",
    "\n",
    "5. (True and True) and (not True) evaluates False.This is because True and True is True but True== False is False and True and False results in False.\n",
    "\n",
    "6. (not True) or (not True) evaluates to True. This is Because not False is True and Not True is False, and True or False results on True"
   ]
  },
  {
   "cell_type": "markdown",
   "id": "6475dd8e",
   "metadata": {},
   "source": [
    "# Q.5. What are the six comparison operators?"
   ]
  },
  {
   "cell_type": "markdown",
   "id": "a2eaf08a",
   "metadata": {},
   "source": [
    "Ans.5. There are six comparison operators:\n",
    "\n",
    "  1. Equal to ( == )\n",
    "  \n",
    "  2. Not Equal to ( != )\n",
    "  \n",
    "  3. Greater than ( > )\n",
    "  \n",
    "  4. Less than  ( < )\n",
    "  \n",
    "  5. Greater than or equal to ( >= )\n",
    "  \n",
    "  6. Less than or equal to ( <= )"
   ]
  },
  {
   "cell_type": "markdown",
   "id": "3f59e49e",
   "metadata": {},
   "source": [
    "# Q.6. How do you tell the difference between the equal to and assignment operators? Describe a condition and when you would use one."
   ]
  },
  {
   "cell_type": "markdown",
   "id": "4471a9d8",
   "metadata": {},
   "source": [
    "A.6.The equal to operator ( == ) and the assignment operator ( = ) serve two distinct purpose:\n",
    "    1. Equal to ( == ): This is a comparison operator. It checks if the values of two operands are equal or not. If the values are equal, the condition becomes true.\n",
    "    \n",
    "    For e.g. \n",
    "          if (5 == 3):\n",
    "             print(\"This won't print because 5 is not equal to 3.\")\n",
    "             \n",
    "In abover Exmaple, 5 == 3 is false, so th print satement inside the if  block does not execute.\n",
    "\n",
    "    2. Assignment ( = ): This operator is used to assign the value in the right to the variable on the left.\n",
    "    \n",
    "    x = 10\n",
    "    print( x )    #output: 10\n",
    "    \n",
    "In above example, x = 10 assigns the value 10 to the variable x. Now x holds the value 10.\n",
    "\n",
    "Here is an example, x=10 assigns the value 10 to the variable x holds the value 10.\n",
    "\n",
    "\n",
    "    x = 10    #Assignment operator\n",
    "    if (x == 10):    #Equal to operator\n",
    "        print(\"x is 10.\")\n",
    "        \n",
    "        In above example, x = 10 assigns the value 10 to x. Then, x == 10 checks if x is equal to 10. Since it is, the print statement executes, and \"x is 10\" is printed to console.\n",
    "\n",
    "So, in summary, use the assignment operator ( = ) when we want to assign a value to a variable, and use the equal to operator ( == ) when we want to compare two values.\n",
    "\n"
   ]
  },
  {
   "cell_type": "markdown",
   "id": "177f3255",
   "metadata": {},
   "source": [
    "# Q.7. Identify the three blocks in this code:\n",
    "spam = 0\n",
    "\n",
    "if spam == 10:\n",
    "\n",
    "print(\"eggs\")\n",
    "\n",
    "if spam > 5:\n",
    "\n",
    "print('bacon')\n",
    "\n",
    "else:\n",
    "\n",
    "print(\"ham\")\n",
    "\n",
    "print('spam')\n",
    "\n",
    "print('spam')\n"
   ]
  },
  {
   "cell_type": "markdown",
   "id": "e3095bd4",
   "metadata": {},
   "source": [
    "A.7. \n",
    "    1. THe first block is the if statement that checks spam is equal to 10 :\n",
    "    \n",
    "       spam = 0\n",
    "       if spam == 10:\n",
    "          print ( \"eggs\" )\n",
    "       \n",
    "    2. The second block is another if statement that checks    if spam is greater than 5:\n",
    "    \n",
    "       if spam > 5:\n",
    "          print('bacon')\n",
    "          \n",
    "     3.The third block is the else statement that corresponds to the second if statement:\n",
    "      \n",
    "      else:\n",
    "          print(\"ham\")\n",
    "    "
   ]
  },
  {
   "cell_type": "markdown",
   "id": "305ed8d3",
   "metadata": {},
   "source": [
    "# Q.8. Write code that prints \"Hello\" if 1 is stored in spam, prints \"Howdy\" if 2 is stored in spam, and prints \"Greetings!\" if anything else is stored in spam."
   ]
  },
  {
   "cell_type": "markdown",
   "id": "7cfc2f4e",
   "metadata": {},
   "source": [
    "# A.8. spam = ....  #replace with the value we want to check\n",
    "\n",
    "\n",
    "if spam == 1:\n",
    "\n",
    "    print(\"hello\")\n",
    "    \n",
    "elif spam == 2: \n",
    " \n",
    "      print(\"Howdy\")\n",
    "else:\n",
    "\n",
    "    print(\"Greetings!\")\n",
    "\n",
    "    "
   ]
  },
  {
   "cell_type": "markdown",
   "id": "973b9863",
   "metadata": {},
   "source": [
    "# Q.9. If your programme is stuck in an endless loop, what keys you’ll press?"
   ]
  },
  {
   "cell_type": "markdown",
   "id": "155d2134",
   "metadata": {},
   "source": [
    "A.9. If our Python program is stuck in an endless loop, we can interrupt it by pressing Ctrl + C in most command-line interfaces. This sends an interrupt signal to our program which causes it to terminate immediately. However, this might not work in all environments, especially some IDEs. In such cases, we would need to use the stop or interrupt command provided by the IDE. For example, in Jupyter notebooks, we can use the “Interrupt” option in the “Kernel” menu."
   ]
  },
  {
   "cell_type": "markdown",
   "id": "106aafb8",
   "metadata": {},
   "source": [
    "# Q.10. How can you tell the difference between break and continue?"
   ]
  },
  {
   "cell_type": "markdown",
   "id": "03b2d556",
   "metadata": {},
   "source": [
    "A.10. Break and Continue are used to alter the flow of a loop. \n",
    "\n",
    "> break: When a break statement is encountered inside a loop, it causes the loop to be terminated immediately. Any code that follows the break statement (within the loop) is not executed. If the loop  is nested inside other loops, break will only terminate the innermost loop in which it is placed.\n",
    " \n",
    " for i in range(5):\n",
    " \n",
    "      if i == 3:\n",
    "      \n",
    "          break\n",
    "          \n",
    "      print(i)\n",
    "      \n",
    "#output: 0 1 2  \n",
    "\n",
    "> continue: When a continue statement is encountered inside a loop, it causes the loop to skip the rest of its body for the current iteration and immediately proceed with the next iteration of the loop. It does not terminate the loop; instead, it just skips ahead.\n",
    "\n",
    " for i in range(5):\n",
    " \n",
    "     if i == 3:\n",
    "        \n",
    "        continue\n",
    "        \n",
    "      print(i)\n",
    "      \n",
    "#output: 0 1 2 4      "
   ]
  },
  {
   "cell_type": "markdown",
   "id": "c29aff1c",
   "metadata": {},
   "source": [
    "# Q.11. In a for loop, what is the difference between range(10), range(0, 10), and range(0, 10, 1)?\n"
   ]
  },
  {
   "cell_type": "markdown",
   "id": "3ead8177",
   "metadata": {},
   "source": [
    "A.11. In a for loop, difference between range are as follows:\n",
    " >range(10): This generates a sequence of numbers from 0 to 9. The arguement 10 is the stop value. The default start value is 0, and the default step value is 1.\n",
    " \n",
    "    print(list(range(10)))    #output: [0,1,2,3,4,5,6,7,8,9]\n",
    " \n",
    " >range(0,10): This generates sequence of numbers from 0 to 9. The first arguement 0 is the start value, and the second arguement 10 is stop value. The default step value is 1.\n",
    " \n",
    "    print(list(range(0,10)))  #output: [0,1,2,3,4,5,6,7,8,9]\n",
    " \n",
    " >range(0,10,1): This generates sequence of number from 0 to 9 as well. The first arguement 0 is the start value, the second arguement 10 is stop value, and the third arguement 1 is the step value.\n",
    " \n",
    "    print(list(range(0,10,1))) #output: [0,1,2,3,4,5,6,7,8,9]"
   ]
  },
  {
   "cell_type": "markdown",
   "id": "42e42e38",
   "metadata": {},
   "source": [
    "# Q.12. Write a short program that prints the numbers 1 to 10 using a for loop. Then write an equivalent program that prints the numbers 1 to 10 using a while loop."
   ]
  },
  {
   "cell_type": "markdown",
   "id": "0c699723",
   "metadata": {},
   "source": [
    "A.12. Using a for loop:\n",
    "\n",
    "     for i in range(1,11):\n",
    "         print(i)\n",
    "         \n",
    "    #o/p: 1\n",
    "          2\n",
    "          3\n",
    "          4\n",
    "          5\n",
    "          6\n",
    "          7\n",
    "          8\n",
    "          9\n",
    "          10\n",
    "    \n",
    "    \n",
    "   using a while loop:\n",
    "    \n",
    "    i = 1\n",
    "    while i<= 10:\n",
    "         print (i)\n",
    "         i += 1\n",
    "         \n",
    "    #o/p: 1\n",
    "          2\n",
    "          3\n",
    "          4\n",
    "          5\n",
    "          6\n",
    "          7\n",
    "          8\n",
    "          9\n",
    "          10"
   ]
  },
  {
   "cell_type": "markdown",
   "id": "a9ae8cf2",
   "metadata": {},
   "source": [
    "# Q.13.If you had a function named bacon() inside a module named spam, how would you call it after importing spam? "
   ]
  },
  {
   "cell_type": "markdown",
   "id": "06b4938a",
   "metadata": {},
   "source": [
    "A.13. After importing spam module , we can call the bacon function using dot notation.\n",
    "\n",
    "     import spam\n",
    "     spam.bacon()"
   ]
  },
  {
   "cell_type": "code",
   "execution_count": null,
   "id": "a328275c",
   "metadata": {},
   "outputs": [],
   "source": []
  }
 ],
 "metadata": {
  "kernelspec": {
   "display_name": "Python 3 (ipykernel)",
   "language": "python",
   "name": "python3"
  },
  "language_info": {
   "codemirror_mode": {
    "name": "ipython",
    "version": 3
   },
   "file_extension": ".py",
   "mimetype": "text/x-python",
   "name": "python",
   "nbconvert_exporter": "python",
   "pygments_lexer": "ipython3",
   "version": "3.11.5"
  }
 },
 "nbformat": 4,
 "nbformat_minor": 5
}

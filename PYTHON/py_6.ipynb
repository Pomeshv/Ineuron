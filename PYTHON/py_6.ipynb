{
 "cells": [
  {
   "cell_type": "markdown",
   "metadata": {},
   "source": [
    "Q.1 What are escape characters, and how do you use them?\n",
    "\n",
    "A.1 Escape characters are used to represent non-printable characters in strings.\n",
    "    It is used to indicate that the following character should be interpreted in a \n",
    "    special way.\n",
    "\n",
    "    For e.g. '\\n' is used to represent a new line.\n",
    "\n",
    "             '\\t' is used to represent a tab.\n",
    "\n",
    "             '\\\\' is used to represent a backslash.\n",
    "\n",
    "              '\\\"' is used to represent a double quote.\n",
    "\n",
    "              '\\r' is used to represent a carriage return.\n",
    "\n",
    "              '\\f' is used to represent a form feed.\n",
    "\n",
    "              '\\b' is used to represent a backspace.\n",
    "              "
   ]
  },
  {
   "cell_type": "markdown",
   "metadata": {},
   "source": []
  },
  {
   "cell_type": "markdown",
   "metadata": {},
   "source": [
    "Q.2. What do the escape characters n and t stand for?\n",
    "\n",
    "A.2. The escape character n stands for a new line.\n",
    "     The escape character t stands for a tab."
   ]
  },
  {
   "cell_type": "markdown",
   "metadata": {},
   "source": [
    "Q.3. What is the way to include backslash characters in a string?\n",
    "\n",
    "A.3. The way to include backslash characters in a string is to use two backslashes."
   ]
  },
  {
   "cell_type": "markdown",
   "metadata": {},
   "source": [
    "Q.4.The string \"Howl's Moving Castle\" is a correct value. Why isn't the single quote character in the word Howl's not escaped a problem?\n",
    "\n",
    "A.4. Because the single quote character could not be used as delimiter for the string. String can be delimited using either  single quotes (` ' `) or double quote (` \" `)."
   ]
  },
  {
   "cell_type": "markdown",
   "metadata": {},
   "source": [
    "Q.5. How do you write a string of newlines if you dont want to use the n character?\n",
    "\n",
    "A.5. Using triple-quote (\"\"\" Pomesh \"\"\") if we want a string of newlines without using the n character."
   ]
  },
  {
   "cell_type": "markdown",
   "metadata": {},
   "source": [
    "Q.6. What are the values of the given expressions?\n",
    "\n",
    "'Hello, world!'[1]\n",
    "\n",
    "'Hello, world!'[0:5]\n",
    "\n",
    "'Hello, world!'[:5]\n",
    "\n",
    "'Hello, world!'[3:]\n",
    "\n",
    "A.6. 'e'\n",
    "\n",
    "    'Hello'\n",
    "\n",
    "    'Hello'\n",
    "\n",
    "     'lo world!'   "
   ]
  },
  {
   "cell_type": "markdown",
   "metadata": {},
   "source": []
  },
  {
   "cell_type": "markdown",
   "metadata": {},
   "source": [
    "Q.7. What are the values of the following expressions?\n",
    "\n",
    "'Hello'.upper()\n",
    "\n",
    "'Hello'.upper().isupper()\n",
    "\n",
    "'Hello'.upper().lower()\n",
    "\n",
    "A.7. 'HELLO'\n",
    "\n",
    "     True\n",
    "\n",
    "    'hello'"
   ]
  },
  {
   "cell_type": "markdown",
   "metadata": {},
   "source": []
  },
  {
   "cell_type": "markdown",
   "metadata": {},
   "source": [
    "Q.8. What are the values of the following expressions?\n",
    "\n",
    "\"Remember, remember, the fifth of July.\".split()\n",
    "\n",
    "-.join(\"There can only one.\".split())\n",
    "\n",
    "A.8. ['Remember,', 'remember', 'the','fifth' , 'of' , 'July']\n",
    "\n",
    "     'THere-can-only-one.'\n",
    "\n",
    "\n",
    "\n"
   ]
  },
  {
   "cell_type": "markdown",
   "metadata": {},
   "source": [
    "Q.9. What are the methods for right-justifying, left-justifying, and centering a string?\n",
    "\n",
    "A.9  an example of how to use these methods:\n",
    "\n",
    "#### Right-justify a string in a field of 10\n",
    "print(\"Hello\".rjust(10))\n",
    "\n",
    "####  Left-justify a string in a field of 10\n",
    "print(\"Hello\".ljust(10))\n",
    "\n",
    "####  Center a string in a field of 10\n",
    "print(\"Hello\".center(10))\n",
    "\n",
    "####  Right-justify a string with a fill character \" * \"\n",
    "print(\"Hello\".rjust(10, \"*\"))\n",
    "\n",
    "####  Left-justify a string with a fill character \" * \"\n",
    "print(\"Hello\".ljust(10, \"*\"))\n",
    "\n",
    "####  Center a string with a fill character \" * \"\n",
    "print(\"Hello\".center(10, \"*\"))"
   ]
  },
  {
   "cell_type": "markdown",
   "metadata": {},
   "source": [
    "Q.10. What is the best way to remove whitespace characters from the start or end?\n",
    "\n",
    "A.10. The best way to remove whitespace characters from the or end of a string in Python is to use the str.strip() method. This method removes any leading and trailing whitespace characters from the string.\n",
    "\n",
    "#### Remove leading and trailing whitespace from a string\n",
    "s = \"   Hello, World!   \"\n",
    "print(s.strip())\n",
    "\n",
    "#### This would print the following output:\n",
    "#### Hello, World!\n",
    "\n",
    "#### Remove leading whitespace from a string\n",
    "s = \"   Hello, World!   \"\n",
    "print(s.lstrip())\n",
    "\n",
    "#### Remove trailing whitespace from a string\n",
    "s = \"   Hello, World!   \"\n",
    "print(s.rstrip())\n",
    "\n",
    "#### the following output:\n",
    "#### Hello, World!   \n",
    "#### Hello, World!\n"
   ]
  }
 ],
 "metadata": {
  "kernelspec": {
   "display_name": "base",
   "language": "python",
   "name": "python3"
  },
  "language_info": {
   "codemirror_mode": {
    "name": "ipython",
    "version": 3
   },
   "file_extension": ".py",
   "mimetype": "text/x-python",
   "name": "python",
   "nbconvert_exporter": "python",
   "pygments_lexer": "ipython3",
   "version": "3.11.5"
  }
 },
 "nbformat": 4,
 "nbformat_minor": 2
}

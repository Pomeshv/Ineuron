{
 "cells": [
  {
   "cell_type": "markdown",
   "metadata": {},
   "source": [
    "Q.1. How do you distinguish between shutil.copy() and shutil.copytree()?\n",
    "\n",
    "A.1. shutil.copy():\n",
    "\n",
    "- The shutil.copy() function is used to copy a single file from a source location to a destination location.\n",
    "- It operates on individual files, not directories.\n",
    "\n",
    "Basic usage:\n",
    "- Copies the content of the source file to the specified destination.\n",
    "- If the destination is an existing directory, the file is copied into it.\n",
    "- If a file with the same name already exists in the destination directory, it will be overwritten.\n",
    "\n",
    "Example:\n",
    "\n",
    "import shutil\n",
    "\n",
    "##### Copy a file\n",
    "shutil.copy('source.txt', 'destination_folder/')\n",
    "\n",
    "2. shutil.copytree():\n",
    "\n",
    "- The shutil.copytree() function is used to recursively copy an entire directory (folder) along with all its subdirectories and files.\n",
    "- It creates a new directory at the destination path and copies the entire directory structure.\n",
    "\n",
    "Basic usage:\n",
    "- Copies the entire directory tree from the source directory to the specified destination.\n",
    "- If the destination directory already exists, it raises an error (unless you set dirs_exist_ok=True).\n",
    "\n",
    "example:\n",
    "\n",
    "import shutil\n",
    "\n",
    "#### Copy an entire directory\n",
    "shutil.copytree('source_folder/', 'destination_folder/')\n",
    "\n",
    "3. Use Cases:\n",
    "- Use shutil.copy() when we need to copy individual files.\n",
    "- Use shutil.copytree() when we want to copy entire directory structures.\n",
    "\n"
   ]
  },
  {
   "cell_type": "markdown",
   "metadata": {},
   "source": [
    "Q.2. What function is used to rename files?\n",
    "\n",
    "A.2. To rename files in Python, we can use the os.rename() function from the OS module. \n",
    "\n",
    "1. os.rename(current_file_name, new_file_name):\n",
    "- The current_file_name represents the existing file name (or path).\n",
    "- The new_file_name represents the desired new file name (or path).\n",
    "- This function renames the file from the current name to the specified new name.\n",
    "\n",
    "Example:\n",
    "\n",
    "import os\n",
    "\n",
    "#### Rename a file\n",
    "os.rename('old_file.txt', 'new_file.txt')\n"
   ]
  },
  {
   "cell_type": "markdown",
   "metadata": {},
   "source": [
    "Q.3. What is the difference between the delete functions in the send2trash and shutil modules?\n",
    "\n",
    "A.3. \n",
    "1. shutil Module:\n",
    "- The shutil module provides functions for file operations, including copying, moving, and deleting files and directories.\n",
    "- The shutil.rmtree() function is used to irreversibly delete files and directories.\n",
    "- When you use shutil.rmtree(), the files and directories are permanently removed from the file system.\n",
    "- Be cautious when using this function, as it does not send files to the trash or recycle bin; they are deleted directly.\n",
    "\n",
    "2.send2trash Module:\n",
    "- The send2trash module is a third-party package that provides a safer way to delete files and directories.\n",
    "- Instead of permanently deleting files, send2trash sends them to the computer’s trash or recycle bin (natively and on all platforms).\n",
    "- It allows for safe deletion without the risk of accidental data loss.\n",
    "- To install send2trash, run the following command in the terminal:\n",
    "  pip install send2trash\n",
    "\n",
    "3. Use Cases:\n",
    "- Use shutil when you need to delete files or directories permanently.\n",
    "- Use send2trash when you want to avoid accidental data loss and send files to the trash or recycle bin.\n"
   ]
  },
  {
   "cell_type": "markdown",
   "metadata": {},
   "source": [
    "Q.4. 4.ZipFile objects have a close() method just like File objects close() method. What ZipFile method is\n",
    "equivalent to File objects’ open() method?\n",
    "\n",
    "A.4. \n",
    "The equivalent method in the zipfile module to the File objects open() method is the ZipFile constructor. It allows you to open a ZIP file, where the file argument can be a path to a file (as a string), a file-like object, or a path-like object. The mode parameter specifies the mode of operation (similar to the modes used with open()). The default mode is read ('r'), but you can also use write ('w'), append ('a'), and exclusive ('x') modes.\n",
    "\n",
    "- Examples:\n",
    "import zipfile\n",
    "\n",
    "#### Open a ZIP file for reading\n",
    "with zipfile.ZipFile('my_archive.zip', 'r') as myzip:\n",
    "    # Perform operations on the ZIP file\n",
    "    # ...\n",
    "\n",
    "#### The ZIP file is automatically closed when the block is finished\n"
   ]
  },
  {
   "cell_type": "markdown",
   "metadata": {},
   "source": [
    "Q.5. Create a programme that searches a folder tree for files with a certain file extension (such as .pdf\n",
    "or .jpg). Copy these files from whatever location they are in to a new folder.\n",
    "\n",
    "A.5. import os\n",
    "\n",
    "import shutil\n",
    "\n",
    "def copy_files_by_extension(source_folder, target_folder, extensions):\n",
    "\n",
    "    \"\"\"\n",
    "    Recursively searches for files with specified extensions in the source folder\n",
    "    and copies them to the target folder.\n",
    "\n",
    "    Args:\n",
    "    \n",
    "        source_folder (str): Path to the source folder.\n",
    "        target_folder (str): Path to the target folder where files will be copied.\n",
    "        extensions (list): List of file extensions (e.g., ['.pdf', '.jpg']).\n",
    "    \"\"\"\n",
    "    for root, _, files in os.walk(source_folder):\n",
    "        for filename in files:\n",
    "            _, ext = os.path.splitext(filename)\n",
    "            if ext.lower() in extensions:\n",
    "                source_path = os.path.join(root, filename)\n",
    "                target_path = os.path.join(target_folder, filename)\n",
    "                shutil.copy2(source_path, target_path)  # Use shutil.copy2 for metadata preservation\n",
    "\n",
    "if __name__ == \"__main__\":\n",
    "\n",
    "    source_directory = \"path/to/source_folder\"  # Replace with your source folder path\n",
    "    target_directory = \"path/to/target_folder\"  # Replace with your target folder path\n",
    "    file_extensions = [\".pdf\", \".jpg\"]  # Specify the file extensions you want to copy\n",
    "\n",
    "    # Create the target directory if it doesn't exist\n",
    "    os.makedirs(target_directory, exist_ok=True)\n",
    "\n",
    "    # Copy files with specified extensions\n",
    "    copy_files_by_extension(source_directory, target_directory, file_extensions)\n",
    "    print(f\"Files with extensions {file_extensions} copied to {target_directory}\")\n",
    "\n",
    "    Replace \"path/to/source_folder\" and \"path/to/target_folder\" with the actual paths to your source and target folders. The script will search for files with the specified extensions (case-insensitive) and copy them to the target folder while preserving metadata (using shutil.copy2). Make sure you have the necessary permissions to read from the source folder and write to the target folder.\n"
   ]
  },
  {
   "cell_type": "markdown",
   "metadata": {},
   "source": []
  },
  {
   "cell_type": "markdown",
   "metadata": {},
   "source": []
  },
  {
   "cell_type": "markdown",
   "metadata": {},
   "source": []
  },
  {
   "cell_type": "markdown",
   "metadata": {},
   "source": []
  },
  {
   "cell_type": "markdown",
   "metadata": {},
   "source": []
  },
  {
   "cell_type": "markdown",
   "metadata": {},
   "source": []
  },
  {
   "cell_type": "markdown",
   "metadata": {},
   "source": []
  },
  {
   "cell_type": "markdown",
   "metadata": {},
   "source": []
  },
  {
   "cell_type": "markdown",
   "metadata": {},
   "source": []
  }
 ],
 "metadata": {
  "language_info": {
   "name": "python"
  }
 },
 "nbformat": 4,
 "nbformat_minor": 2
}

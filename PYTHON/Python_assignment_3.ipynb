{
 "cells": [
  {
   "cell_type": "markdown",
   "id": "988e7239",
   "metadata": {},
   "source": [
    "# Q.1. Why are functions advantageous to have in your programs?"
   ]
  },
  {
   "cell_type": "markdown",
   "id": "b537460f",
   "metadata": {},
   "source": [
    "A.1. FUnctions advantageous to have in our programs are:\n",
    "\n",
    "     1. Code Reusability: Function allow to write a piece of code once and reuseit anywhere in program. This can save time and effort.\n",
    "     \n",
    "     2. Modularity: Functions help to break down a large program into small, manageable parts. Each function performs a specific tasks. This makes the program easier to understand, debug, and maintain.\n",
    "     \n",
    "     3. Abstraction: Functions hide the completely of a task. You can use a function without knowing the details of how it accomplishes its task.\n",
    "     \n",
    "     4. Namespace Isolation: Variables defined inside a function are not visible outside. This helps to avoid variable name conflicts.\n",
    "     \n",
    "     5. Testing and debugging: It's easier to test and debug small functions than a large program. If a problem occurs, You can isolate the function causing the issue and fix it.\n",
    "     \n",
    "     Examples of afunctions in python:\n",
    "     \n",
    "     def greet(name):\n",
    "     \n",
    "     print(\"Hello, \" + name + \". Good morning !\"\n",
    "     \n",
    "     greet(\"Pomesh\")   #o/p: Hello, Alice. Good morning !\n",
    "     \n",
    "     "
   ]
  },
  {
   "cell_type": "markdown",
   "id": "82d4fa7d",
   "metadata": {},
   "source": [
    "# Q.2. When does the code in a function run: when it's specified or when it's called?"
   ]
  },
  {
   "cell_type": "markdown",
   "id": "8e475f70",
   "metadata": {},
   "source": [
    "A.2.  The code in a fuction runs when the function is called, not when it's specified.\n",
    "\n",
    "      def say_hello():\n",
    "          print(\"Hello, World ! \")\n",
    "          \n",
    "#no message is printed here because the function is just being defined\n",
    "\n",
    "say_hello()      \n",
    "\n",
    "#'Hello,World!\" is printed here because the function is being called"
   ]
  },
  {
   "cell_type": "markdown",
   "id": "94d20c1f",
   "metadata": {},
   "source": [
    "# Q.3. What statement creates a function?\n"
   ]
  },
  {
   "cell_type": "markdown",
   "id": "f7ba3a3f",
   "metadata": {},
   "source": [
    "A.3. We can create a functionusing the def keyword followed by the function name and parenthesis (). Inside the parenthesis, we can specify any parameters that our functions requires. After the parentheses, use a colon : to start the function's body.\n",
    "\n",
    "     def my_function():\n",
    "     \n",
    "         print(\"This is my function!\")"
   ]
  },
  {
   "cell_type": "markdown",
   "id": "e55151f5",
   "metadata": {},
   "source": [
    "# Q.4. What is the difference between a function and a function call?"
   ]
  },
  {
   "cell_type": "markdown",
   "id": "8829dde6",
   "metadata": {},
   "source": [
    "A.4.  \n",
    "    1. Function: A function is a block of organized, reusable code that is used to perform a single, related action. It is defined using the def keyword followed by the function name and parentheses ().\n",
    "     \n",
    "     def greet(name):\n",
    "    print(f\"Hello, {name}!\")\n",
    "    \n",
    "    2.Function call: A function call is the code used to pass control to a function, or the other words, to invoke a function. When you call a function, you're telling python to execute the code inside that function.\n",
    "    \n",
    "    greet(\"Pomesh\")"
   ]
  },
  {
   "cell_type": "markdown",
   "id": "2551929c",
   "metadata": {},
   "source": [
    "# Q.5.How many global scopes are there in a Python program? How many local scopes?"
   ]
  },
  {
   "cell_type": "markdown",
   "id": "f79492a6",
   "metadata": {},
   "source": [
    "A.5. In python. there is one global scope and as many local scopes as there are function calls.\n",
    "\n",
    "    1. Global Scope: The global scope is created when our script starts and lasts until the script ends. Any variable which is defined in the main body of a file is available to the global scope. There is only one global scope per python program execution.\n",
    "    \n",
    "    2. Local Scope: A local scope is created whenever a function is called. Any variable defined within that function. It's temporary and lasts only until tha function finishes execution. Ifyou have multiple function calls, each will have its own local scope.\n",
    "    \n",
    "    #This is the global scope\n",
    "    \n",
    "    x = 10\n",
    "    \n",
    "    def my_function():\n",
    "    #this is a local scope\n",
    "    y = 5\n",
    "    \n",
    "    print(f\"Inside function: x = {x}, y = {y}\")\n",
    "    \n",
    "    my_function()\n",
    "    print(f\"Outside function: x = {x}\")\n",
    "    \n",
    "In above, x is global scope and y is in the local scope of my_function. Each time my_function is called, a new local scope is created. The variable y is not accessible outside of my_function because it's in the local scope of my_function. The variable x is accessible inside my_function because it's in the global scope.    "
   ]
  },
  {
   "cell_type": "markdown",
   "id": "b7287f89",
   "metadata": {},
   "source": [
    "# Q.6. What happens to variables in a local scope when the function call returns?"
   ]
  },
  {
   "cell_type": "markdown",
   "id": "0ffe3bb8",
   "metadata": {},
   "source": [
    "A.6. When a function call returns. The local scope of that function is destroyed, and all the variables in it are forgotten. This means that the variables in the local scope are not accessible outside the function or after the function call returns.\n",
    "\n",
    "  def my_function():\n",
    "      local_var = 100   #A variable in the local scope\n",
    "      print(f\"Inside function: local_var = {local_var}\")\n",
    "      \n",
    "  my_function()\n",
    "  \n",
    "  \n",
    "#This will raise a Nameerror because local_var is not defined in the global scope\n",
    "\n",
    "print(local_var)\n",
    "\n",
    "In above example, local_var is a variable in the local scope of my_function. After my_function is called and returns, local_var is no longer accessible, and trying to print local_var outside the function raises a NameError.\n",
    "\n",
    "This behavior helps to prevent variable name conflicts and keep your code modular and easier to understand. It's one of the fundamental aspects of function scoping in many programming languagesk not just python.\n"
   ]
  },
  {
   "cell_type": "markdown",
   "id": "861adcdd",
   "metadata": {},
   "source": [
    "# Q.7. What is the concept of a return value? Is it possible to have a return value in an expression?"
   ]
  },
  {
   "cell_type": "markdown",
   "id": "ca2f3f31",
   "metadata": {},
   "source": [
    "A.7.The return value is that function gives back to the place where it was called once it has completed its execution. In Python, you can specify a return value using the return statement in your function. If afunction doesn't have a return statement, it returns None by default.\n",
    "\n",
    "\n",
    "    def add_number(a,b):\n",
    "        return a + b      \n",
    "        \n",
    "        #the function returns the sum of a and b\n",
    "        \n",
    "    result = add_numbers(5,3)     \n",
    "    \n",
    "    #the returns value (8) is stored in the variable              'result'\n",
    "    \n",
    "    print(result)     #prints:8\n",
    "    \n",
    "    Yes, it is possible to have areturn value in an expression. An expression is a piece of code that produces a value. A function call is an expression, and its value is the return value of the function.\n",
    "    \n",
    "    def square(n):\n",
    "        return n * n\n",
    "        \n",
    "        #the functions call 'square(5)' is an expression with the return value 25.\n",
    "\n",
    "    print(square(5) + 10)   #prints: 35\n",
    "\n",
    "\n"
   ]
  },
  {
   "cell_type": "markdown",
   "id": "67b57ff4",
   "metadata": {},
   "source": [
    "# Q.8. If a function does not have a return statement, what is the return value of a call to that function?"
   ]
  },
  {
   "cell_type": "markdown",
   "id": "bf38a985",
   "metadata": {},
   "source": [
    "A.8. If function does not have a return statement, it returns None by dfault.\n",
    "\n",
    "     def say_hello():\n",
    "         print(\"Hello, World!\")\n",
    "         \n",
    "     result = say_hello()   #this function call returns None\n",
    "     print(result)          #prints: None\n",
    "     \n",
    "     \n",
    "In this e.g. the say_hello function does not have a return statement, so when it's called, it returns None. The print statement insisde the function is executed, but it does not affect the return value of the function. The result variable, which stores the return value of the functions call, is None. SO when prints result, it prints None.     \n",
    "      "
   ]
  },
  {
   "cell_type": "markdown",
   "id": "45d1f172",
   "metadata": {},
   "source": [
    "# Q.9. How do you make a function variable refer to the global variable?"
   ]
  },
  {
   "cell_type": "markdown",
   "id": "8177cf89",
   "metadata": {},
   "source": [
    "A.9. We can do directly.However, if we want to modify a global variable inside a function, we need to use global keyword before the variables.\n",
    "\n",
    "\n",
    "#Global variable\n",
    "\n",
    "x = 10\n",
    "\n",
    "def my_function():\n",
    "   \n",
    "   #Refer to the global variable 'x'\n",
    "   \n",
    "    global x\n",
    "    x = 20   #this will change the global variable 'x'\n",
    "    \n",
    "print(x)       #prints: 10\n",
    "\n",
    "my_function()\n",
    "\n",
    "print(x)        #prints:20\n",
    "\n",
    "In above e.g., x is a global variable. Inside my_function, we use the global keyword to indicate that we want to use the global x, not create a new local x. Then we change x to 20. After calling my_function the global x has been changed to 20.\n",
    "\n",
    "Remenber it's generally better to avoid using global variablewhen possible, because they can make programs harder to understand and debug. It's usually better to pass variables as apramenters and return results instead. Id we find yourself usong a lot of global variables, it might be a sign that we should consider restructuring our program. "
   ]
  },
  {
   "cell_type": "markdown",
   "id": "3a242064",
   "metadata": {},
   "source": [
    "# Q.10. What is the data type of None?"
   ]
  },
  {
   "cell_type": "markdown",
   "id": "60035975",
   "metadata": {},
   "source": [
    "A.10. Data type of None is Nonetype data type. It is a special typr that has only one possible value, which is None. It is used to signify the absence of a value or a null value.\n",
    "\n",
    "x = None\n",
    "\n",
    "print(type(x))   \n",
    "\n",
    "#Prints: <class ' NoneType'>"
   ]
  },
  {
   "cell_type": "markdown",
   "id": "8d576530",
   "metadata": {},
   "source": [
    "# Q.11.What does the sentence import areallyourpetsnamederic do?"
   ]
  },
  {
   "cell_type": "markdown",
   "id": "80b7bcf2",
   "metadata": {},
   "source": [
    " A.11. The statement import areallyyourpetsnamederic is used to import a module named areallyourpetsnamederic. Once a module is imported, we can use the functions, classes, and variables defined in that module in our current program.\n",
    "\n",
    "However, areallyourpetsnamederic is not a real or standardPython module. If ypo try to import iti in a real Python progrm, you will get a ModulenotFOundError (unless you have a custom Python module with that exact name in your Python's search path).\n",
    "\n",
    "Remember, when you import a module, python searches fot that module in the directories listed in sys.path which includws the directory containing the input script, the python path, and the installation-dependent default path. If it can't find the module in these locations, it raises a ModuleFoundError."
   ]
  },
  {
   "cell_type": "markdown",
   "id": "214d2b14",
   "metadata": {},
   "source": [
    "# Q.12. If you had a bacon() feature in a spam module, what would you call it after importing spam?"
   ]
  },
  {
   "cell_type": "markdown",
   "id": "bbcac14e",
   "metadata": {},
   "source": [
    "A.12. After importing the spam module in Python, we can call the bacon() function as spam.bacon().\n",
    "\n",
    "      E.g. \n",
    "          Import spam\n",
    "          spam.bacon()\n",
    "          \n",
    "     in above e.g. spam = module name and bacon = function contained with the spam module. The dot(.) is used to access the bacon function from the spam module. This is a common pattern.     "
   ]
  },
  {
   "cell_type": "markdown",
   "id": "0e58c574",
   "metadata": {},
   "source": [
    "# Q.13.What can you do to save a programme from crashing if it encounters an error?"
   ]
  },
  {
   "cell_type": "markdown",
   "id": "b1ad706b",
   "metadata": {},
   "source": [
    "A.13. We can save a programme from crashing if it encouters error by using the try / except block.\n",
    "\n",
    "      try: \n",
    "          risky_operation()\n",
    "      except Exception as e:\n",
    "            print(f\"AN error occured: {e}\")  "
   ]
  },
  {
   "cell_type": "markdown",
   "id": "309ac515",
   "metadata": {},
   "source": [
    "# Q.14. What is the purpose of the try clause? What is the purpose of the except clause?"
   ]
  },
  {
   "cell_type": "markdown",
   "id": "9dfd2c13",
   "metadata": {},
   "source": [
    "A.14. The try and except clauses are used for exception handling, which is mechanism for stoppong \"exceptional\" events (errors) from causing program crashes.\n",
    "\n",
    "    --> try clause: The purpose of the try clause is to enclose a section of code where we anticipate an error or exception might occur. This is the code that will be executed under normal conditions.\n",
    "    \n",
    "    --> except clause: The purpose of the except clause is to catch and handle exceptions. If an error occurs in the try block, the flow of control is passed to the except block, and the code within this block to handle different types of exceptions. \n",
    "    \n",
    "    try:\n",
    "    x = 1 / 0\n",
    "    except ZeroDivisionError:\n",
    "    print(\"You can't divide by zero!\")\n",
    "\n",
    "    \n",
    "    "
   ]
  },
  {
   "cell_type": "code",
   "execution_count": null,
   "id": "0888d777",
   "metadata": {},
   "outputs": [],
   "source": []
  }
 ],
 "metadata": {
  "kernelspec": {
   "display_name": "Python 3 (ipykernel)",
   "language": "python",
   "name": "python3"
  },
  "language_info": {
   "codemirror_mode": {
    "name": "ipython",
    "version": 3
   },
   "file_extension": ".py",
   "mimetype": "text/x-python",
   "name": "python",
   "nbconvert_exporter": "python",
   "pygments_lexer": "ipython3",
   "version": "3.11.5"
  }
 },
 "nbformat": 4,
 "nbformat_minor": 5
}

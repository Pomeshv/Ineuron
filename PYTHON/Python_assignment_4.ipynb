{
 "cells": [
  {
   "cell_type": "markdown",
   "id": "0928db91",
   "metadata": {},
   "source": [
    "# Q.1. What exactly is []?"
   ]
  },
  {
   "cell_type": "markdown",
   "id": "0238d8a5",
   "metadata": {},
   "source": [
    "A.1. It represents an empty list.\n",
    "\n",
    "A list is a built-in data type in python that can be used to store multiple items in a single variable. \n",
    "\n",
    "Lists are one of four built-in data types in python used to store collections of data, the other three are Tuple, set, and Dictionary.\n",
    "\n"
   ]
  },
  {
   "cell_type": "markdown",
   "id": "ef202d2a",
   "metadata": {},
   "source": [
    "# Q.2. In a list of values stored in a variable called spam, how would you assign the value 'hello' as the third value? (Assume [2, 4, 6, 8, 10] are in spam.)"
   ]
  },
  {
   "cell_type": "markdown",
   "id": "53954764",
   "metadata": {},
   "source": [
    "A.2. We can assign the value 'hello' as the third value in the list spam by using indexing. List indices start at 0, so the third value is at index 2.\n",
    "\n",
    "     spam = [2, 4, 6, 8, 10]\n",
    "     \n",
    "     spam[2] = 'hello'\n",
    "     \n",
    "     #output: [2, 4, 'hello', 8, 10]   "
   ]
  },
  {
   "cell_type": "markdown",
   "id": "8f0fa190",
   "metadata": {},
   "source": [
    "# Let's pretend the spam includes the list [a, b,  c, d] for the next three (Q.3 to Q.5) queries."
   ]
  },
  {
   "cell_type": "markdown",
   "id": "c5da498d",
   "metadata": {},
   "source": [
    "# Q.3. What is the value of spam [ int ( int ( '3' * 2 )  /  11 ) ] ?"
   ]
  },
  {
   "cell_type": "markdown",
   "id": "9dfcfc73",
   "metadata": {},
   "source": [
    "A.3. \n",
    "\n",
    "spam = ['a', 'b', 'c', 'd']\n",
    "\n",
    "print(spam[int(int('3' * 2) / 11)])  \n",
    "\n",
    "#output: d"
   ]
  },
  {
   "cell_type": "markdown",
   "id": "7ed10adc",
   "metadata": {},
   "source": [
    "# Q.4. What is the value of spam[-1]?"
   ]
  },
  {
   "cell_type": "markdown",
   "id": "7ec13da8",
   "metadata": {},
   "source": [
    "A.4. It returns the last item in list. \n",
    "\n",
    "spam = ['a', 'b', 'c', 'd']\n",
    "\n",
    "spam[-1]\n",
    "\n",
    "#Output : 'd'"
   ]
  },
  {
   "cell_type": "markdown",
   "id": "22263746",
   "metadata": {},
   "source": [
    "# Q.5.What is the value of spam[:2]?"
   ]
  },
  {
   "cell_type": "markdown",
   "id": "7de2cd56",
   "metadata": {},
   "source": [
    "A.5. It returns the first two items in the list.\n",
    "\n",
    "spam = ['a', 'b', 'c', 'd']\n",
    "\n",
    "spam[ :2 ]\n",
    "\n",
    "output : ['a', 'b']\n"
   ]
  },
  {
   "cell_type": "markdown",
   "id": "b1a5a2e5",
   "metadata": {},
   "source": [
    "# Let's pretend bacon has the list [3.14, 'cat',11,'cat', True] for the next three (Q.6 to Q.8 ) questions."
   ]
  },
  {
   "cell_type": "markdown",
   "id": "0a334f59",
   "metadata": {},
   "source": [
    "# Q.6. What is the value of bacon.index('cat')?"
   ]
  },
  {
   "cell_type": "markdown",
   "id": "3530c237",
   "metadata": {},
   "source": [
    "A.6. 1"
   ]
  },
  {
   "cell_type": "markdown",
   "id": "cb678b37",
   "metadata": {},
   "source": [
    "# Q.7. How does bacon.append(99) change the look of the list value in bacon?"
   ]
  },
  {
   "cell_type": "markdown",
   "id": "8a536bb2",
   "metadata": {},
   "source": [
    "A.7. Append() method adds an item to an end of a list. If we use list name 'bacon' and we see bacon.appended(99), it will add 99 to the end of the 'bacon' named list.\n",
    "\n",
    "     bacon = [3.14, 'cat', 11, 'cat', True, 99]"
   ]
  },
  {
   "cell_type": "markdown",
   "id": "8c952e2e",
   "metadata": {},
   "source": [
    "# Q.8. How does bacon.remove('cat') change the look of the list in bacon?"
   ]
  },
  {
   "cell_type": "markdown",
   "id": "7ebd08f9",
   "metadata": {},
   "source": [
    "A.8. remove() function is used to remove the occurance of a value in the list. \n",
    "     Hence, it will remove first occurance of 'cat' from the list.\n",
    "     \n",
    "     bacon = [3.14, 11, 'cat', True]"
   ]
  },
  {
   "cell_type": "markdown",
   "id": "76595d15",
   "metadata": {},
   "source": [
    "# Q.9. What are the list concatenation and list replication operators?"
   ]
  },
  {
   "cell_type": "markdown",
   "id": "33db59d8",
   "metadata": {},
   "source": [
    "A.9. \n",
    "\n",
    "   1. List Concatenation ( + ): This operator is used to combine two lists into a new lists that includes all the elements from both lists. \n",
    "   \n",
    "   list1 = [1,2,3,4]\n",
    "   \n",
    "   list2 = [4,5,6,]\n",
    "   \n",
    "   combined = list1 + list2\n",
    "   \n",
    "   print(combined)       \n",
    "   \n",
    "   #prints: [1,2,3,4,5,6]\n",
    "   \n",
    "   \n",
    "   2. List Replication ( * ): This operator is used to repeat a list a certain number of times.\n",
    "   \n",
    "   list1 = [1,2,3]\n",
    "   \n",
    "   replicated = list * 3\n",
    "   \n",
    "   print(replicated)\n",
    "   \n",
    "   #prints: [1,2,3,1,2,3,1,2,3]"
   ]
  },
  {
   "cell_type": "markdown",
   "id": "2037ff0d",
   "metadata": {},
   "source": [
    "# Q.10. What is difference between the list methods append() and insert()?"
   ]
  },
  {
   "cell_type": "markdown",
   "id": "f0ceece4",
   "metadata": {},
   "source": [
    "A.10.  append()  \n",
    "                 \n",
    "                 > Appends an element to the end of the list. \n",
    "                   \n",
    "                 > Increase the list length by 1. \n",
    "                 \n",
    "                 > Constant time complexity (O(1)). \n",
    "                 \n",
    "                 \n",
    "      insert():  > Inserts an element at a desired position specified by \n",
    "                   the index.\n",
    "                     \n",
    "                 > Increases the list length by 1.\n",
    "                                         \n",
    "                 > Linear time complexity (O(n)) due to shifting elements."
   ]
  },
  {
   "cell_type": "markdown",
   "id": "4ff03497",
   "metadata": {},
   "source": [
    "# Q.11.What are the two methods for removing items from a list?"
   ]
  },
  {
   "cell_type": "markdown",
   "id": "240c6818",
   "metadata": {},
   "source": [
    "A.11. The two method are: \n",
    "      \n",
    "      1. remove() method:\n",
    "      \n",
    "            * It removes the first occurance of a specified value from the list.\n",
    "            \n",
    "            * It takes the value to be removed as an arguement.\n",
    "            \n",
    "            * syntax: list_name.remove(value)\n",
    "            \n",
    "       2. pop() method:\n",
    "       \n",
    "            * It removes an element from a specific index in the list.\n",
    "            \n",
    "            * It takes index as an arguement (optional; if not provided, it removes the last element).\n",
    "            \n",
    "            * syntax: list_name.pop(index)\n",
    "            \n",
    "            \n",
    "Note:  \n",
    "\n",
    "       Use remove() when we know the value we want to remove.\n",
    "\n",
    "       Use pop() when we want to remove an element at a spcific index and retrieve its value."
   ]
  },
  {
   "cell_type": "markdown",
   "id": "bd803bf5",
   "metadata": {},
   "source": [
    "# Q.12. Describe how list values and string values are identical."
   ]
  },
  {
   "cell_type": "markdown",
   "id": "c3d421fa",
   "metadata": {},
   "source": [
    "A.12. List values and string values are identical because of: \n",
    "       \n",
    "      sequences: Both lists and strings are ordered collections of elements.\n",
    "      \n",
    "      Indexing: You can access individual elements in both lists and strings using indexing ( e.g. my_list[0] or my_string[2]).\n",
    "      \n",
    "      Iteration: We can iterate over the elements of both lists and strings using loops. \n",
    "      \n",
    "      \n",
    "      Differences are: Mutablity, Element Types."
   ]
  },
  {
   "cell_type": "markdown",
   "id": "a92cc5f9",
   "metadata": {},
   "source": [
    "# Q.13. What's the difference between tuples and lists?"
   ]
  },
  {
   "cell_type": "markdown",
   "id": "4cd98acc",
   "metadata": {},
   "source": [
    "A.13.  The difference between tuples and lists are: \n",
    "    \n",
    "       1. Mutablity:\n",
    "       \n",
    "             * Tuples are Immutable but Lists are mutable.\n",
    "             \n",
    "       2. Syntax:\n",
    "        \n",
    "              * Tuples are created using parentheses ().\n",
    "              \n",
    "              * Lists are created using square breaket [].\n",
    "              \n",
    "       3. Memory Effeciency: \n",
    "       \n",
    "              * Tuples are more effeciency than lists because they stored as a single block of memory.\n",
    "              \n",
    "              * lists requires additional memory for dynamic resizing and maintaining their mutable nature.\n",
    "              \n",
    "       4. Performance:\n",
    "        \n",
    "              * Tuples are generally faster than lists for certain operations (e.g. iteration) due to their immutablity.\n",
    "              \n",
    "              * Lists have more built-in methods and are better suited for operationd like insertion and deletion.\n",
    "              \n",
    "        5. Use cases:\n",
    "            \n",
    "              * Tuples is used to create a collection of elements that shoulld remain contant. \n",
    "              \n",
    "              * Use lists when we need a dynamic collection that can be modified during program execution.\n",
    "      "
   ]
  },
  {
   "cell_type": "markdown",
   "id": "e7878482",
   "metadata": {},
   "source": [
    "# Q.14.  How do you type a tuple value that only contains the integer 42?"
   ]
  },
  {
   "cell_type": "markdown",
   "id": "3525831a",
   "metadata": {},
   "source": [
    " A.14.  To create a singleton tuple containing only integer 42, \n",
    "\n",
    "      t = (42,)\n",
    "      \n",
    "      the crucial part here is the comma after 42. A tuple with single element must have trailing comma to differentiate it from a regular value enclosed in parentheses. Without comma, python would interpret it as just the integer 42 rather than a tuple.\n",
    "    "
   ]
  },
  {
   "cell_type": "markdown",
   "id": "99a5308f",
   "metadata": {},
   "source": [
    "# Q.15. How do you get a list value's tuple form? How do you get a tuple value's list form?"
   ]
  },
  {
   "cell_type": "markdown",
   "id": "a1397b1b",
   "metadata": {},
   "source": [
    "A.15. 1. Converting a list to a tuple: \n",
    "\n",
    "         Using tuple() constructor, It takes list as an arguement and returns a tuple containing the same elements. E.g. \n",
    "         are:\n",
    "         \n",
    "         my_list1 = [1,2,3,4]\n",
    "         \n",
    "         my_tuple = tuple(my_list)\n",
    "         \n",
    "         print(my_tuple)    # Output: (1,2,3,4)\n",
    "         \n",
    "         also, we can use zip() function to create a list of tuples from multiple lists.\n",
    "         \n",
    "      2. Converting a Tuple to a list:\n",
    "      \n",
    "         Using list() function. E.g. are:\n",
    "         \n",
    "         my_tuple = (1,2,3,4)\n",
    "         \n",
    "         my_list = list(my_tuple)     #output: [1,2,3,4]\n",
    "         \n",
    "         also, we can use loop to iiterate through each elements in the tuple and create a list.\n",
    "     "
   ]
  },
  {
   "cell_type": "markdown",
   "id": "39c4913f",
   "metadata": {},
   "source": [
    "# Q.16. Variables that 'contain' list values are not necessarily lists themselves. Instead, what do they contain?"
   ]
  },
  {
   "cell_type": "markdown",
   "id": "502cacc6",
   "metadata": {},
   "source": [
    "A.16. Variables that contain values are not necessarily lists themselves intead they hold or contain refrences or pointer to the memory location where the list is stored.\n",
    "\n",
    "When we assign a list to a variable, that variable essentially stores the memory address of the first element in the list. \n",
    "\n",
    "my_list = [10, 20, 30]"
   ]
  },
  {
   "cell_type": "markdown",
   "id": "99997372",
   "metadata": {},
   "source": [
    "# Q.17. How do you distinguish between copy.copy() and copy.deepcopy()?"
   ]
  },
  {
   "cell_type": "markdown",
   "id": "9dffdbb7",
   "metadata": {},
   "source": [
    "A.17. \n",
    "\n",
    "     1. Shallow copy ( copy.copy()  ):\n",
    "     \n",
    "           * A shallow copy creates a new object that stores references to the same elements as the original object.\n",
    "           \n",
    "           * It constructs a new compound object ( e.g. List dictionary) and insert references to the objects found in the                  original.\n",
    "           \n",
    "           * Changes made to the shallow copy affect the original object as they share references.\n",
    "           \n",
    "           * Use copy.copy() when we want a new oject with the same elements but still connected to the original.\n",
    "           \n",
    "           E.g. \n",
    "           \n",
    "           import copy\n",
    "           original_list = [1, 2, [3,5], 4]\n",
    "           shallow_copy = copy.copy(original_list)\n",
    "           \n",
    "     2. Deep copy ( copy.deepcopy() )\n",
    "     \n",
    "        * a deep copy creates a complete independent copy of the original object.\n",
    "        \n",
    "        * It constructs a new compound object and then recursively inserts copies of the objects found in the original.\n",
    "        \n",
    "        * Changes made to the deep copy do not affect the original object.\n",
    "        \n",
    "        *Use copy.deepcopy() when we need a separate, isolated copy of the entire structure.\n",
    "        \n",
    "        E.g.\n",
    "        \n",
    "         import copy\n",
    "         original_list = [1,2,[3,5],4]\n",
    "         deep_copy = copy.deepcopy(original_list)\n",
    "         \n",
    "         \n",
    "Remember:\n",
    "\n",
    "         Shallow copy shares references and affects the original.\n",
    "         \n",
    "         Deep copy creates an independent copy, preserving the original structure. \n",
    "         "
   ]
  },
  {
   "cell_type": "code",
   "execution_count": null,
   "id": "e7d91864",
   "metadata": {},
   "outputs": [],
   "source": []
  }
 ],
 "metadata": {
  "kernelspec": {
   "display_name": "Python 3 (ipykernel)",
   "language": "python",
   "name": "python3"
  },
  "language_info": {
   "codemirror_mode": {
    "name": "ipython",
    "version": 3
   },
   "file_extension": ".py",
   "mimetype": "text/x-python",
   "name": "python",
   "nbconvert_exporter": "python",
   "pygments_lexer": "ipython3",
   "version": "3.11.5"
  }
 },
 "nbformat": 4,
 "nbformat_minor": 5
}

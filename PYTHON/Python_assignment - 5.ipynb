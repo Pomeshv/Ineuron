{
 "cells": [
  {
   "cell_type": "markdown",
   "id": "6ec50156",
   "metadata": {},
   "source": [
    "# Q.1. What does an empty dictionary's code look like?"
   ]
  },
  {
   "cell_type": "markdown",
   "id": "21f76500",
   "metadata": {},
   "source": [
    "A.1. \n",
    "\n",
    "   1. Using Curly Braces {} :\n",
    "                          \n",
    "                     empty_dict = {}\n",
    "                     print(empty_dict)     #output: {}\n",
    "                     print(\"Length:\", len(empty_dict))    #output: 0\n",
    "                     print(type(empty_dict))     #output: <class 'dict'>\n",
    "                     \n",
    "   2. Using dict() Constructor: \n",
    "                    \n",
    "                    empty_dict = dict()\n",
    "                    print(empty_dict)     #output: {}\n",
    "                    print(\"Length:\", len(empty_dict))\n",
    "                    print(type(empty_dict))   #output: <class 'dict'>\n",
    "                    \n",
    "    3. Using dictionary comprehension:\n",
    "    \n",
    "                    empty_dict = {key : value for key, value in [] }\n",
    "                    print(empty_dict)     #output: {}\n",
    "                    print(\"Length:\", len(empty_dict))     #output: 0\n",
    "                    print(typr(empty_dict))       #output: <class 'dict'>\n",
    "   "
   ]
  },
  {
   "cell_type": "markdown",
   "id": "079d1db6",
   "metadata": {},
   "source": [
    "# Q.2. What is the value of a dictionary value with the key 'foo' and the value 42?"
   ]
  },
  {
   "cell_type": "markdown",
   "id": "4b190602",
   "metadata": {},
   "source": [
    "A.2. { 'foo' : 42 }\n",
    "     \n",
    "     Value of  dictionary : 42"
   ]
  },
  {
   "cell_type": "markdown",
   "id": "e2e06498",
   "metadata": {},
   "source": [
    "# Q.3. What is the most significant distinction between a dictionary and a list? "
   ]
  },
  {
   "cell_type": "markdown",
   "id": "d1a67444",
   "metadata": {},
   "source": [
    "# A.3. \n",
    "\n",
    "    # Aspects:                    # Lists:                     # Dictionary:\n",
    "    \n",
    "    Order                       ordered                    Unordered\n",
    "    \n",
    "    Elements                    Accessed via indices       Accessed via keys\n",
    "    \n",
    "    Data Types                  Homogeneous or mixed       Key-value pairs\n",
    "  \n",
    "    Duplication                 Allows duplicate values    No duplicate keys\n",
    "    \n",
    "    Mutablity                   Mutable (can be modified)  Mutable\n",
    "    \n",
    "    Space- Time                 Maintains order            Effecient for                                                     \n",
    "                                                           lookups                                                                    "
   ]
  },
  {
   "cell_type": "markdown",
   "id": "821063e0",
   "metadata": {},
   "source": [
    "# Q.4. What happens if you try to access spam [ 'foo' ] if spam is { 'bar' : 100} ?"
   ]
  },
  {
   "cell_type": "markdown",
   "id": "7e5ef12b",
   "metadata": {},
   "source": [
    "A.4. We will encounter keyerror. Because the key 'foo' does not exist in the dictionary spam."
   ]
  },
  {
   "cell_type": "markdown",
   "id": "8c4436e3",
   "metadata": {},
   "source": [
    "# Q.5. If a dictionary is stored in spam, what is the difference between the expressions 'cat' in spam and'cat' in spam.keys()?"
   ]
  },
  {
   "cell_type": "markdown",
   "id": "0bfa613a",
   "metadata": {},
   "source": [
    "A.5. When a dictionary is stored in spam, there is no difference in expressions 'cat' in spam and 'cat in spam.keys(). Both expressions use the 'in' operator to check whether a value exists s a keys in the dictionary."
   ]
  },
  {
   "cell_type": "markdown",
   "id": "e226e4af",
   "metadata": {},
   "source": [
    "# Q.6. If a dictionary is stored in spam, what is the difference between the expressions &#39;cat&#39; in spam and 'cat' in spam.values() ?"
   ]
  },
  {
   "cell_type": "markdown",
   "id": "21090d4b",
   "metadata": {},
   "source": [
    "A.6. \n",
    "   'cat' in spam checks for the existence of the key 'cat'.\n",
    "    Whereas, 'cat' in spam.values() checks the existence of the\n",
    "    value 'cat' associated with any key in spam."
   ]
  },
  {
   "cell_type": "markdown",
   "id": "72d421a0",
   "metadata": {},
   "source": [
    "# Q.7. What is a shortcut for the following code?\n",
    "if 'color' not in spam:\n",
    "\n",
    "spam['color'] = 'black'"
   ]
  },
  {
   "cell_type": "markdown",
   "id": "3ab02ba6",
   "metadata": {},
   "source": [
    "A.7. spam.setdefault('color', 'black')"
   ]
  },
  {
   "cell_type": "markdown",
   "id": "2d1e091b",
   "metadata": {},
   "source": [
    "# Q.8. How do you 'pretty print' dictionary values using which module and function?"
   ]
  },
  {
   "cell_type": "markdown",
   "id": "09f315f9",
   "metadata": {},
   "source": [
    "A.9. \"Prrety print \" dictionary values using pprint module and pprint() functions."
   ]
  },
  {
   "cell_type": "markdown",
   "id": "588f5ddd",
   "metadata": {},
   "source": []
  },
  {
   "cell_type": "code",
   "execution_count": null,
   "id": "971e91ac",
   "metadata": {},
   "outputs": [],
   "source": []
  },
  {
   "cell_type": "code",
   "execution_count": null,
   "id": "f8d93762",
   "metadata": {},
   "outputs": [],
   "source": []
  }
 ],
 "metadata": {
  "kernelspec": {
   "display_name": "Python 3 (ipykernel)",
   "language": "python",
   "name": "python3"
  },
  "language_info": {
   "codemirror_mode": {
    "name": "ipython",
    "version": 3
   },
   "file_extension": ".py",
   "mimetype": "text/x-python",
   "name": "python",
   "nbconvert_exporter": "python",
   "pygments_lexer": "ipython3",
   "version": "3.11.5"
  }
 },
 "nbformat": 4,
 "nbformat_minor": 5
}

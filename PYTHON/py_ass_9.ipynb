{
 "cells": [
  {
   "cell_type": "markdown",
   "metadata": {},
   "source": [
    "Q.1. To what does a relative path refer?\n",
    "\n",
    "A.1. In Python, a relative path refers to a path that describes the location of a directory or file relative to the current working directory or another specified directory. Unlike an absolute path, which starts from the root directory, a relative path is based on the context of where the Python script is executed.\n",
    "\n",
    "key points :\n",
    "\n",
    "#### Relative to Current Working Directory:\n",
    "- A relative path is determined based on the current working directory (the directory from which the Python script is run).\n",
    "- It specifies the path to a file or directory relative to this current working directory.\n",
    "\n",
    "#### Usage:\n",
    "- Relative paths are commonly used when accessing files or directories within a project or package.\n",
    "- They allow you to navigate through the directory structure without specifying the entire path from the root. "
   ]
  },
  {
   "cell_type": "markdown",
   "metadata": {},
   "source": []
  },
  {
   "cell_type": "markdown",
   "metadata": {},
   "source": [
    "Q.2. What does an absolute path start with your operating system?\n",
    "\n",
    "A.2. An absolute path in Python refers to the complete and specific description of the location of a file or directory within the computer’s file system. It provides an unambiguous route to a file or directory from the system root. \n",
    "\n",
    "The key characteristics of an absolute path are as follows:\n",
    "\n",
    "- Start Point:\n",
    "The absolute path always begins from the root directory (the top-level directory of the file system).\n",
    "It describes every step the user must take through the file system to reach the specified location.\n",
    "\n",
    "- Representation:\n",
    "In Unix-like operating systems (such as Linux), the root directory is represented using a forward slash (/).\n",
    "In Windows, the root directory is represented using a drive letter followed by a backslash (e.g., C:\\).\n",
    "\n",
    "- Examples:\n",
    "C:\\Users\\User\\Documents\\file.txt\n",
    "\n",
    "- Use Cases:\n",
    "\n",
    "Absolute paths are useful when you need to specify a file or directory’s location precisely, irrespective of your current working directory.\n",
    "\n",
    "They are commonly used for system configuration files, system libraries, and other critical resources.\n"
   ]
  },
  {
   "cell_type": "markdown",
   "metadata": {},
   "source": [
    "Q.3. What do the functions os.getcwd() and os.chdir() do?\n",
    "\n",
    "A.3. os.getcwd() returns the current working directory.\n",
    "\n",
    "os.chdir() changes the current working directory."
   ]
  },
  {
   "cell_type": "markdown",
   "metadata": {},
   "source": [
    "Q.4. What are the . and .. folders?\n",
    "\n",
    "A.4  . (Dot):\n",
    "- The single dot (.) represents the current working directory (CWD).\n",
    "- When used in a path, it refers to the directory where the Python script is currently executing.\n",
    "- For example:\n",
    " If your script is running from the directory /home/user/my_project, then ./file.txt refers to the file file.txt in the same directory.\n",
    "Similarly, ./subdirectory/another_file.txt refers to another_file.txt within the subdirectory.\n",
    "\n",
    ".. (Dot-Dot):\n",
    "- The double dot (..) represents the parent directory.\n",
    "- It allows you to move up one level in the directory hierarchy.\n",
    "- For example:\n",
    "If your script is running from /home/user/my_project, then ../data/file.txt refers to file.txt in the data directory located one level above.\n",
    "\n",
    "usage:\n",
    "- These special references are commonly used when constructing relative paths.\n",
    "- They help you navigate through directories without specifying the entire absolute path.\n",
    "\n",
    "./data/input.txt: Refers to input.txt in the data directory (same level as main.py).\n",
    "\n",
    "../utils/helper.py: Refers to helper.py in the utils directory (one level above main.py)."
   ]
  },
  {
   "cell_type": "markdown",
   "metadata": {},
   "source": [
    "Q.5. In C:\\bacon\\eggs\\spam.txt, which part is the dir name, and which part is the base name?\n",
    "\n",
    "A.5. \n",
    "- The directory name (also known as the folder name) is C:\\bacon\\eggs.\n",
    "- The base name (also known as the file name) is spam.txt."
   ]
  },
  {
   "cell_type": "markdown",
   "metadata": {},
   "source": [
    "Q.6. What are the three “mode” arguments that can be passed to the open() function?\n",
    "\n",
    "A.6. The three “mode” arguments that can be passed to the open() function are:\n",
    "\n",
    "- r(Read mode): Opens a file for reading only. The file pointer is placed at the beginning of the file.\n",
    "\n",
    "- w(write mode): Opens a file for writing only. Overwrites the file if the file exists. If the file does not exist, creates a new file for writing.\n",
    "\n",
    "\n",
    "- a(append mode): Opens a file for appending. The file pointer is at the end of the file if the file exists. That is, the file is in the append mode. If the file does not exist, it creates a new file for writing.\n"
   ]
  },
  {
   "cell_type": "markdown",
   "metadata": {},
   "source": [
    "Q.7. What happens if an existing file is opened in write mode?\n",
    "\n",
    "A.7. If the file exists:\n",
    "\n",
    "- The existing content of the file is completely overwritten.\n",
    "- The file is truncated (emptied), and any previous data is lost.\n",
    "- The file pointer is positioned at the beginning of the file.\n",
    "- You can write new data to the file using methods like write().\n",
    "\n",
    " If the file does not exist:\n",
    "- A new file with the specified name is created.\n",
    "- The file pointer is positioned at the beginning of the newly created file.\n",
    "- You can write data to the file using methods like write().\n",
    "\n",
    "\n",
    "- Examples:\n",
    "##### Open an existing file in write mode (overwriting existing content)\n",
    "with open(\"existing_file.txt\", mode=\"w\") as file:\n",
    "    file.write(\"This content will replace the existing data.\")\n",
    "\n",
    "##### Create a new file and write data to it\n",
    "with open(\"new_file.txt\", mode=\"w\") as file:\n",
    "    file.write(\"Hello, world!\")\n"
   ]
  },
  {
   "cell_type": "markdown",
   "metadata": {},
   "source": [
    "Q.8. How do you tell the difference between read() and readlines()?\n",
    "\n",
    "A.8. 1.read():\n",
    "- The read() function reads the entire file at once and returns its content as a single string.\n",
    "- It reads all characters from the file, including newline characters (\\n).\n",
    "- The entire file content is stored in memory as a single string.\n",
    "\n",
    "2. readlines():\n",
    "- The readlines() function reads all lines from the file and returns them as a list of strings.\n",
    "- Each line (including the newline character) becomes an element in the list.\n",
    "- It is useful when you want to process the file line by line or extract specific lines.\n",
    "\n",
    "e.g.\n",
    "\n",
    "with open(\"example.txt\") as file:\n",
    "\n",
    "    lines = file.readlines()\n",
    "    for line in lines:\n",
    "        print(line.strip())  # Remove newline characters\n",
    "\n",
    "Use Cases:\n",
    "\n",
    "- Use read() when you need the entire file content as a single string (e.g., searching for a specific substring).\n",
    "- Use readlines() when you want to work with individual lines (e.g., analyzing log files, extracting specific data).        \n"
   ]
  },
  {
   "cell_type": "markdown",
   "metadata": {},
   "source": []
  },
  {
   "cell_type": "markdown",
   "metadata": {},
   "source": [
    "Q.9.What data structure does a shelf value resemble?\n",
    "\n",
    "A.9. A shelf is a persistent, dictionary-like object. It has similarities to a dictionary but with additional features. \n",
    "- A shelf is a built-in module called shelve.\n",
    "- It provides a way to store and retrieve data persistently (across program executions) using a dictionary-like interface.\n",
    "- A shelf object stores key-value pairs.\n",
    "- Keys are strings, and values can be arbitrary Python objects (similar to dictionary values).\n",
    "- The values are pickled (serialized) using the pickle module, allowing complex data structures to be stored.\n",
    "- Shelves are useful when using a relational database is not recommended or when you need a simple way to store and retrieve data.\n",
    "- They are commonly used for caching, configuration settings, and small-scale data persistence.\n",
    "- A shelf object supports methods similar to a dictionary, such as __getitem__(), __setitem__(), keys(), values(), and items()."
   ]
  },
  {
   "cell_type": "markdown",
   "metadata": {},
   "source": []
  },
  {
   "cell_type": "markdown",
   "metadata": {},
   "source": []
  },
  {
   "cell_type": "markdown",
   "metadata": {},
   "source": []
  },
  {
   "cell_type": "markdown",
   "metadata": {},
   "source": []
  },
  {
   "cell_type": "markdown",
   "metadata": {},
   "source": []
  },
  {
   "cell_type": "markdown",
   "metadata": {},
   "source": []
  },
  {
   "cell_type": "markdown",
   "metadata": {},
   "source": []
  }
 ],
 "metadata": {
  "language_info": {
   "name": "python"
  }
 },
 "nbformat": 4,
 "nbformat_minor": 2
}

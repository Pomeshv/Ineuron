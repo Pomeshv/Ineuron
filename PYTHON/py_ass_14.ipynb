{
 "cells": [
  {
   "cell_type": "markdown",
   "metadata": {},
   "source": [
    "Q.1. What does RGBA stand for?\n",
    "\n",
    "A.1.  RGBA stands for Red-Green-Blue-Alpha\n",
    "\n",
    "- Red ®: The intensity of the red color, ranging from 0 to 255.\n",
    "- Green (G): The intensity of the green color, also ranging from 0 to 255.\n",
    "- Blue (B): The intensity of the blue color, again ranging from 0 to 255.\n",
    "- Alpha (A): The alpha channel, representing transparency. It ranges from 0 (completely transparent) to 255 (completely opaque)."
   ]
  },
  {
   "cell_type": "markdown",
   "metadata": {},
   "source": [
    "Q.2. From the Pillow module, how do you get the RGBA value of any images?\n",
    "\n",
    "A.2. from PIL import ImageColor\n",
    "\n",
    "ImageColor.getcolor('red', 'RGBA')\n",
    "\n",
    "ImageColor.getcolor('green', 'RGBA')\n",
    "\n",
    "##output : (0, 128, 0, 255)\n",
    "\n"
   ]
  },
  {
   "cell_type": "markdown",
   "metadata": {},
   "source": [
    "Q.3. What is a box tuple, and how does it work?\n",
    "\n",
    "A.3. A box tuple is a tuple value of four integers: the left edge x-coordinate, the top edge y-coordinate, the width, and the height, respectively."
   ]
  },
  {
   "cell_type": "markdown",
   "metadata": {},
   "source": [
    "Q.4. Use your image and load in notebook then, How can you find out the width and height of an\n",
    "Image object?\n",
    "\n",
    "A.4. from PIL import Image\n",
    "\n",
    "myImg = Image.open('Pomesh.jpg')\n",
    "\n",
    "w,h = myImg.size\n",
    "\n",
    "w,h\n",
    "\n",
    "####output: (6016, 4016)"
   ]
  },
  {
   "cell_type": "markdown",
   "metadata": {},
   "source": [
    "Q.5. What method would you call to get Image object for a 100×100 image, excluding the lower-left\n",
    "quarter of it?\n",
    "\n",
    "A.5. ImageObject.crop((0, 50, 50, 50))"
   ]
  },
  {
   "cell_type": "markdown",
   "metadata": {},
   "source": [
    "Q.6. After making changes to an Image object, how could you save it as an image file?\n",
    "\n",
    "A.6.By Calling the imageObj.save('new_filename.png') method of the Image object."
   ]
  },
  {
   "cell_type": "markdown",
   "metadata": {},
   "source": [
    "Q.7. What module contains Pillow’s shape-drawing code?\n",
    "\n",
    "A.7.  The ImageDraw module contains code to draw on images"
   ]
  },
  {
   "cell_type": "markdown",
   "metadata": {},
   "source": [
    "\n",
    "8. Image objects do not have drawing methods. What kind of object does? How do you get this kind of object?\n",
    "\n",
    "A.8. ImageDraw objects have shape-drawing methods such as point(), line(), or rectangle(). They are returned by passing the Image object to the ImageDraw.Draw() function"
   ]
  },
  {
   "cell_type": "markdown",
   "metadata": {},
   "source": []
  },
  {
   "cell_type": "markdown",
   "metadata": {},
   "source": []
  }
 ],
 "metadata": {
  "language_info": {
   "name": "python"
  }
 },
 "nbformat": 4,
 "nbformat_minor": 2
}
